{
 "cells": [
  {
   "cell_type": "code",
   "execution_count": null,
   "id": "0f07123a",
   "metadata": {
    "ExecuteTime": {
     "end_time": "2023-03-18T15:21:48.362970Z",
     "start_time": "2023-03-18T15:21:21.989416Z"
    }
   },
   "outputs": [],
   "source": [
    "# !pip install pymysql\n",
    "# !pip install asyncio\n",
    "# !pip install websockets\n",
    "# !pip install joblib"
   ]
  },
  {
   "cell_type": "code",
   "execution_count": null,
   "id": "4dbad655",
   "metadata": {
    "ExecuteTime": {
     "end_time": "2023-03-18T17:07:28.727534Z",
     "start_time": "2023-03-18T17:07:27.261150Z"
    },
    "run_control": {
     "marked": true
    }
   },
   "outputs": [],
   "source": [
    "from sklearn.preprocessing import MinMaxScaler\n",
    "import pymysql\n",
    "from pymysql.cursors import DictCursor\n",
    "import pandas as pd\n",
    "import numpy as np\n",
    "import joblib\n",
    "from decimal import Decimal\n",
    "from sklearn.preprocessing import MinMaxScaler\n",
    "import time\n",
    "import json\n",
    "import asyncio\n",
    "import websockets"
   ]
  },
  {
   "cell_type": "markdown",
   "id": "7eb84a9b",
   "metadata": {},
   "source": [
    "### DB연결, 훈련모델 불러오기"
   ]
  },
  {
   "cell_type": "code",
   "execution_count": null,
   "id": "58c591d5",
   "metadata": {
    "ExecuteTime": {
     "end_time": "2023-03-18T17:12:27.716108Z",
     "start_time": "2023-03-18T17:12:27.253961Z"
    },
    "scrolled": true
   },
   "outputs": [],
   "source": [
    "# DB 연결\n",
    "conn = pymysql.connect(host='project-db-stu.ddns.net', user='insogae', password='insogae', db='insogae', port=3307, charset='utf8')\n",
    "\n",
    "# 사용자 ID를 입력 받고 사용자의 수조 리스트를 배열에 담기\n",
    "cursor = conn.cursor()\n",
    "sql = \"select TANK_ID from TANK where COMPANY_ID = 'insogae'\" # 로그인시 들어갈 ID\n",
    "cursor.execute(sql)\n",
    "rows = cursor.fetchall()\n",
    "cursor.close()\n",
    "print(rows)\n",
    "tankList = []\n",
    "for row in rows:\n",
    "    tankList.append(row[0])\n",
    "model_test = joblib.load('./model/wt11_do_model.pkl')  \n",
    "# 훈련시킨 모델마다 다 다른결과가 나옴 하지만 큰차이가 없는 결과로 하나만쓰기로 함.\n",
    "# 차후 6시간짜리를 10분짜리 훈련시킨걸로 예측값 테스트했을때 좋지 않을경우 6시간짜리로 대체할 예정!\n",
    "tankList"
   ]
  },
  {
   "cell_type": "markdown",
   "id": "a38a293e",
   "metadata": {},
   "source": [
    "### 수조데이터 delete함수"
   ]
  },
  {
   "cell_type": "code",
   "execution_count": null,
   "id": "d818d16d",
   "metadata": {
    "ExecuteTime": {
     "end_time": "2023-03-18T17:12:28.292334Z",
     "start_time": "2023-03-18T17:12:28.285322Z"
    }
   },
   "outputs": [],
   "source": [
    "# 각 수조의 첫 12행을 제외한 나머지 DELETE 시키기!!\n",
    "\n",
    "# 데이터베이스 연결\n",
    "def deleteData():\n",
    "    cursor = conn.cursor()\n",
    "    # 각 탱크마다 쿼리를 생성하여 실행\n",
    "    for tank_name in tankList:\n",
    "        # 첫 15개의 레코드를 제외한 나머지 레코드 삭제 (LIMIT 15)\n",
    "        query = '''\n",
    "        DELETE t1 FROM TANK_DATA_copy t1\n",
    "        WHERE RECORD_SEQ NOT IN (\n",
    "            SELECT t2.RECORD_SEQ FROM (\n",
    "                SELECT RECORD_SEQ FROM TANK_DATA_copy\n",
    "                WHERE TANK_ID = %s ORDER BY RECORD_DATE ASC LIMIT 2812\n",
    "            ) AS t2\n",
    "        )\n",
    "        AND TANK_ID = %s\n",
    "        '''\n",
    "        \n",
    "        cursor.execute(query, (tank_name, tank_name))\n",
    "\n",
    "    # 변경 내용을 커밋하고 연결 종료\n",
    "    cursor.close()\n",
    "    conn.commit()\n",
    "    cursor2 = conn.cursor()\n",
    "    sql = \"select count(*) from TANK_DATA_copy\"\n",
    "    cursor2.execute(sql)\n",
    "    rowCnt = cursor2.fetchall()\n",
    "    print(rowCnt)\n",
    "    cursor2.close()"
   ]
  },
  {
   "cell_type": "code",
   "execution_count": null,
   "id": "1a4a3cda",
   "metadata": {
    "ExecuteTime": {
     "end_time": "2023-03-18T17:12:29.227827Z",
     "start_time": "2023-03-18T17:12:28.877174Z"
    }
   },
   "outputs": [],
   "source": [
    "# 12개 행 남기고 다 지우기\n",
    "\n",
    "deleteData()"
   ]
  },
  {
   "cell_type": "markdown",
   "id": "f31b6d4b",
   "metadata": {},
   "source": [
    "### 10분단위 예측값 핸들링(DB insert, Json데이터로 반환)"
   ]
  },
  {
   "cell_type": "code",
   "execution_count": null,
   "id": "b1f8187d",
   "metadata": {
    "ExecuteTime": {
     "end_time": "2023-03-18T17:12:30.575908Z",
     "start_time": "2023-03-18T17:12:30.485735Z"
    },
    "scrolled": true
   },
   "outputs": [],
   "source": [
    "# 예측한 데이터 집어넣기!!  (10분짜리)\n",
    "\n",
    "conn = pymysql.connect(host='project-db-stu.ddns.net', user='insogae', password='insogae', db='insogae', port=3307, charset='utf8')\n",
    "count = 2800; # 4500번째 부터 카운트해서 예측할 예정 즉 TANK_DATA_copy 가 약 36,000 개 정도 예측이 되어야함.\n",
    "\n",
    "import threading\n",
    "import time\n",
    "\n",
    "lock = threading.Lock()\n",
    "timer = None\n",
    "\n",
    "def insertData():\n",
    "    global count\n",
    "    data_list_of_tankList = []\n",
    "    testList = []\n",
    "    for tank_name in tankList:\n",
    "        cursor = conn.cursor(DictCursor)\n",
    "        sql = \"select DO,PH,TEMP,SALT,TANK_ID,RECORD_DATE from TANK_DATA where TANK_ID ='{tank_id}' order by RECORD_DATE limit {count},13\"\n",
    "        sql = sql.format(tank_id=tank_name, count=count)\n",
    "        cursor.execute(sql)\n",
    "        rows = cursor.fetchall()\n",
    "        for row in rows:\n",
    "            for key, value in row.items():\n",
    "                if isinstance(value, Decimal):\n",
    "                    row[key] = float(str(value))\n",
    "        testList.append(rows)\n",
    "        data_list_of_tankList.append([[list(row.values()) for row in rows]])\n",
    "        cursor.close()\n",
    "    accListSet = []\n",
    "    for i in testList:\n",
    "        accListSet.append(i[12])\n",
    "    accListSet\n",
    "    new_list = [[[elem[:-2] for elem in subsublist] for subsublist in sublist] for sublist in data_list_of_tankList]\n",
    "    for i in range(len(new_list)):\n",
    "        for j in range(len(new_list[0])):\n",
    "            new_list[i][j] = new_list[i][j][:12]\n",
    "    count = count+1\n",
    "    x = []\n",
    "    scaler = MinMaxScaler()\n",
    "    resultDataList = [] # 예측후에 실제값과 예측값 및 측정 시간을 담을 배열 \n",
    "    for i, tank in enumerate(new_list):\n",
    "        x.append(tank[0])\n",
    "        scaler_data = scaler.fit_transform(x[i]) # 독립변수 스케일링\n",
    "        reshaped_data = scaler_data.reshape(-1,12,4) # shape 변경\n",
    "        pre = model_test.predict(reshaped_data) # 모델 예측\n",
    "        reshaped_array = np.tile(pre, (1, 4)) # shape 재설정\n",
    "        pre_data = scaler.inverse_transform(reshaped_array)  # 실제 예측값 shape = (1,4) // DO, PH, TEMP, SALT\n",
    "        cursor = conn.cursor()\n",
    "        sql = f\"\"\"insert into TANK_DATA_copy \n",
    "                    VALUES (NULL,'{tankList[i]}',{pre_data[0][0]},{pre_data[0][1]},{pre_data[0][2]},{pre_data[0][3]},\n",
    "                    (SELECT max(record_date)\n",
    "                    FROM    (SELECT a.*,\n",
    "                                ROW_NUMBER() OVER (PARTITION BY a.TANK_ID ORDER BY a.RECORD_DATE desc )  AS row_num \n",
    "                            from TANK_DATA_copy a ,TANK b\n",
    "                            where a.TANK_ID = b.TANK_ID\n",
    "                            and b.COMPANY_ID = 'insogae') sub \n",
    "                    where sub.row_num <= 1\n",
    "                    and sub.TANK_ID = '{tankList[i]}'\n",
    "                    order by sub.TANK_ID,sub.RECORD_DATE)\n",
    "                    + INTERVAL 10 MINUTE)\"\"\"\n",
    "        cursor.execute(sql)\n",
    "        cursor.close()\n",
    "        conn.commit()\n",
    "        resultDataList.append(pre_data[0][0])\n",
    "        resultDataList.append(pre_data[0][1])\n",
    "        resultDataList.append(pre_data[0][2])\n",
    "        resultDataList.append(pre_data[0][3])\n",
    "\n",
    "    result=[]\n",
    "    tank_dict = {}\n",
    "    for i, val in enumerate(resultDataList):\n",
    "        if i % 4 == 0:\n",
    "            if tank_dict:\n",
    "                result.append(tank_dict)\n",
    "                tank_dict = {}\n",
    "            tank_dict['DO_PRE'] = val\n",
    "        elif i % 4 == 1:\n",
    "            tank_dict['PH_PRE'] = val\n",
    "        elif i % 4 == 2:\n",
    "            tank_dict['TEMP_PRE'] = val\n",
    "        elif i % 4 == 3:\n",
    "            tank_dict['SALT_PRE'] = val\n",
    "\n",
    "    result.append(tank_dict)\n",
    "    for i in range(len(result)):\n",
    "        accListSet[i].update(result[i])\n",
    "    print(result)\n",
    "\n",
    "\n",
    "    for d in accListSet:\n",
    "        d['RECORD_DATE'] = d['RECORD_DATE'].isoformat()\n",
    "        d['DO'] = str(d['DO'])\n",
    "        d['PH'] = str(d['PH'])\n",
    "        d['TEMP'] = str(d['TEMP'])\n",
    "        d['SALT'] = str(d['SALT'])\n",
    "        d['DO_PRE'] = str(d['DO_PRE'])\n",
    "        d['PH_PRE'] = str(d['PH_PRE'])\n",
    "        d['SALT_PRE'] = str(d['SALT_PRE'])\n",
    "        d['TEMP_PRE'] = str(d['TEMP_PRE'])\n",
    "    \n",
    "    tempData = {\"type\":\"insertData\",\"value\":accListSet}\n",
    "    jsonData = json.dumps(tempData)\n",
    "    return jsonData"
   ]
  },
  {
   "cell_type": "markdown",
   "id": "9118f7fc",
   "metadata": {},
   "source": [
    "### 6시간단위 예측 함수"
   ]
  },
  {
   "cell_type": "markdown",
   "id": "835819bb",
   "metadata": {},
   "source": [
    "#### 6시간단위 예측함수 정의"
   ]
  },
  {
   "cell_type": "code",
   "execution_count": null,
   "id": "c6564ac1",
   "metadata": {
    "ExecuteTime": {
     "end_time": "2023-03-18T17:12:31.121770Z",
     "start_time": "2023-03-18T17:12:31.101824Z"
    }
   },
   "outputs": [],
   "source": [
    "# 6시간 후 예측하기위한 함수 정의\n",
    "\n",
    "def preData(dateTime, tankName):\n",
    "    data_list_of_tankList = []\n",
    "    testList = []\n",
    "    for tank_name in tankList:\n",
    "        cursor = conn.cursor(DictCursor)\n",
    "        sql = \"\"\"SELECT *\n",
    "                 FROM (\n",
    "                 SELECT *, ROW_NUMBER() OVER (PARTITION BY TANK_ID ORDER BY RECORD_DATE) AS row_num\n",
    "                 FROM TANK_DATA\n",
    "                 WHERE RECORD_DATE \n",
    "                        IN ('{dateTime}', \n",
    "                            DATE_SUB('{dateTime}', INTERVAL 6 HOUR),\n",
    "                            DATE_SUB('{dateTime}', INTERVAL 12 HOUR),\n",
    "                            DATE_SUB('{dateTime}', INTERVAL 18 HOUR),\n",
    "                            DATE_SUB('{dateTime}', INTERVAL 24 HOUR),\n",
    "                            DATE_SUB('{dateTime}', INTERVAL 30 HOUR),\n",
    "                            DATE_SUB('{dateTime}', INTERVAL 36 HOUR),\n",
    "                            DATE_SUB('{dateTime}', INTERVAL 42 HOUR),\n",
    "                            DATE_SUB('{dateTime}', INTERVAL 48 HOUR),\n",
    "                            DATE_SUB('{dateTime}', INTERVAL 54 HOUR),\n",
    "                            DATE_SUB('{dateTime}', INTERVAL 60 HOUR),\n",
    "                            DATE_SUB('{dateTime}', INTERVAL 66 HOUR))\n",
    "                 ) AS t\"\"\"\n",
    "        sql = sql.format(dateTime=dateTime)\n",
    "        cursor.execute(sql)\n",
    "        rows = cursor.fetchall()\n",
    "        for row in rows:\n",
    "            for key, value in row.items():\n",
    "                if isinstance(value, Decimal):\n",
    "                    row[key] = float(str(value))\n",
    "        testList.append(rows)\n",
    "        data_list_of_tankList.append([[list(row.values()) for row in rows]])\n",
    "        cursor.close()\n",
    "    accListSet = []\n",
    "    for i in testList:\n",
    "        accListSet.append(i[12])\n",
    "    accListSet\n",
    "    new_list = [[[elem[2:-2] for elem in subsublist] for subsublist in sublist] for sublist in data_list_of_tankList]\n",
    "    for i in range(len(new_list)):\n",
    "        for j in range(len(new_list[0])):\n",
    "            new_list[i][j] = new_list[i][j][:12]\n",
    "    scaler = MinMaxScaler()\n",
    "    new_pre_data = [] # 예측후에 실제값과 예측값 및 측정 시간을 담을 배열 \n",
    "    x = []\n",
    "    for i, tank in enumerate(new_list):\n",
    "        x.append(tank[0])\n",
    "        scaler_data = scaler.fit_transform(x[i]) # 독립변수 스케일링\n",
    "        reshaped_data = scaler_data.reshape(-1,12,4) # shape 변경\n",
    "        pre = model_test.predict(reshaped_data) # 모델 예측              \n",
    "        reshaped_array = np.tile(pre, (1, 4)) # shape 재설정\n",
    "        pre_data = scaler.inverse_transform(reshaped_array)  # 실제 예측값 shape = (1,4) // DO, PH, TEMP, SALT\n",
    "        print([tankList[i]])\n",
    "        new_pre_data.append(np.concatenate((np.array([[tankList[i]]]), pre_data), axis=1))\n",
    "    new_pre_data\n",
    "    preDataDictList = []\n",
    "    for row in new_pre_data:\n",
    "        my_dict = {\n",
    "            \"TANK_ID\": row[0][0],\n",
    "            \"DO\": float(row[0][1]),\n",
    "            \"PH\": float(row[0][2]),\n",
    "            \"TEMP\": float(row[0][3]),\n",
    "            \"SALT\": float(row[0][4])\n",
    "        }\n",
    "        preDataDictList.append(my_dict)\n",
    "    \n",
    "    class CustomJSONEncoder(json.JSONEncoder):\n",
    "        def default(self, obj):\n",
    "            if isinstance(obj, datetime):\n",
    "                return obj.isoformat()\n",
    "            elif isinstance(obj, (int, float)):\n",
    "                return str(obj)\n",
    "            else:\n",
    "                return super().default(obj)\n",
    "    json_data = json.dumps(preDataDictList, cls=CustomJSONEncoder)\n",
    "    tempData = {\"type\":\"predictData\",\"value\":json_data}\n",
    "    jsonData = json.dumps(tempData)\n",
    "    print(jsonData)\n",
    "    return jsonData\n"
   ]
  },
  {
   "cell_type": "markdown",
   "id": "33b2408a",
   "metadata": {},
   "source": [
    "#### 6시간단위 예측함수로부터 Json데이터 반환"
   ]
  },
  {
   "cell_type": "code",
   "execution_count": null,
   "id": "51f45313",
   "metadata": {
    "ExecuteTime": {
     "end_time": "2023-03-18T17:12:31.950337Z",
     "start_time": "2023-03-18T17:12:31.933156Z"
    },
    "run_control": {
     "marked": true
    }
   },
   "outputs": [],
   "source": [
    "# 10분단위 예측값 insert 할때, 같은 시간대에서 6시간후를 예측하기 위해 같은 시간대와, 수조이름을 뽑아내기 위한 함수 정의\n",
    "def predictData():\n",
    "    global count\n",
    "    data_list_of_tankList = []\n",
    "    testList = []\n",
    "    for tank_name in tankList:\n",
    "        cursor = conn.cursor(DictCursor)\n",
    "        sql = \"select DO,PH,TEMP,SALT,TANK_ID,RECORD_DATE from TANK_DATA where TANK_ID ='{tank_id}' order by RECORD_DATE limit {count},13\"\n",
    "        sql = sql.format(tank_id=tank_name, count=count)\n",
    "        cursor.execute(sql)\n",
    "        rows = cursor.fetchall()\n",
    "        for row in rows:\n",
    "            for key, value in row.items():\n",
    "                if isinstance(value, Decimal):\n",
    "                    row[key] = float(str(value))\n",
    "        testList.append(rows)\n",
    "        data_list_of_tankList.append([[list(row.values()) for row in rows]])\n",
    "        cursor.close()\n",
    "    accListSet = []\n",
    "    for i in testList:\n",
    "        accListSet.append(i[12])\n",
    "    print(accListSet[0]['RECORD_DATE'])\n",
    "    return preData(accListSet[0]['RECORD_DATE'], accListSet[0]['TANK_ID']) ## 독립변수를 집어넣고 데이터 예측하기!! \n",
    "     \n",
    "\n",
    "    "
   ]
  },
  {
   "cell_type": "markdown",
   "id": "61e0cab9",
   "metadata": {},
   "source": [
    "### 이상치 점검후 Json데이터 반환"
   ]
  },
  {
   "cell_type": "code",
   "execution_count": null,
   "id": "9bc175d7",
   "metadata": {
    "ExecuteTime": {
     "end_time": "2023-03-18T17:12:32.700752Z",
     "start_time": "2023-03-18T17:12:32.685822Z"
    }
   },
   "outputs": [],
   "source": [
    "# 이상치 점검 함수\n",
    "def insertDangerData():\n",
    "    data_list_of_tankList = []\n",
    "    testList = []\n",
    "    for tank_name in tankList:\n",
    "        cursor = conn.cursor(DictCursor)\n",
    "        sql = \"select DO,PH,TEMP,SALT,TANK_ID,RECORD_DATE from TANK_DATA where TANK_ID ='{tank_id}' order by RECORD_DATE limit {count},1\"\n",
    "        sql = sql.format(tank_id=tank_name, count=count+11)\n",
    "        cursor.execute(sql)\n",
    "        rows = cursor.fetchall()\n",
    "        for row in rows:\n",
    "            for key, value in row.items():\n",
    "                if isinstance(value, Decimal):\n",
    "                    row[key] = float(str(value))\n",
    "        testList.append(rows)\n",
    "        data_list_of_tankList.append([[list(row.values()) for row in rows]])\n",
    "        cursor.close()\n",
    "    # 이상치 를 담을 리스트\n",
    "    dangerValueList = []\n",
    "\n",
    "\n",
    "    for i in testList:\n",
    "    #     print(i[0])\n",
    "        # 이상치 비교 하기\n",
    "        if(i[0]['TEMP']<23 or i[0]['TEMP']>32):\n",
    "            dangerDict ={\n",
    "                'TANK_ID' : i[0]['TANK_ID'],\n",
    "                'VALUE': i[0]['TEMP'],\n",
    "                'TYPE': list(i[0].keys())[2],\n",
    "                'RECORD_DATE': i[0]['RECORD_DATE']\n",
    "            }\n",
    "            dangerValueList.append(dangerDict)\n",
    "        if(i[0]['DO']<4 or i[0]['DO']>10):\n",
    "            dangerDict ={\n",
    "                'TANK_ID' : i[0]['TANK_ID'],\n",
    "                'VALUE': i[0]['DO'],\n",
    "                'TYPE': list(i[0].keys())[0],\n",
    "                'RECORD_DATE': i[0]['RECORD_DATE']\n",
    "            }\n",
    "            dangerValueList.append(dangerDict)\n",
    "        if(i[0]['PH']<5.5 or i[0]['PH']>8.5):\n",
    "            dangerDict ={\n",
    "                'TANK_ID' : i[0]['TANK_ID'],\n",
    "                'VALUE': i[0]['PH'],\n",
    "                'TYPE': list(i[0].keys())[1],\n",
    "                'RECORD_DATE': i[0]['RECORD_DATE']\n",
    "            }\n",
    "            dangerValueList.append(dangerDict)\n",
    "        if(i[0]['SALT']<0.05 or i[0]['SALT']>5.34):\n",
    "            dangerDict ={\n",
    "                'TANK_ID' : i[0]['TANK_ID'],\n",
    "                'VALUE': i[0]['SALT'],\n",
    "                'TYPE': list(i[0].keys())[3],\n",
    "                'RECORD_DATE': i[0]['RECORD_DATE']\n",
    "            }\n",
    "            dangerValueList.append(dangerDict)\n",
    "    dangerValueList[0]['VALUE']\n",
    "    # 이상치 점검해서 리스트에 담음!!\n",
    "    # 만약 이상치 (dangerValueList)가 null이 아닐경우 이상치를 DB(테이블 : Alarm) 에 넣기\n",
    "\n",
    "\n",
    "    for dict_ in dangerValueList:\n",
    "        dict_['RECORD_DATE'] = dict_['RECORD_DATE'].strftime('%Y-%m-%d %H:%M:%S')\n",
    "\n",
    "    # convert list to JSON\n",
    "    json_str = json.dumps(dangerValueList)\n",
    "\n",
    "    if dangerValueList is not None:\n",
    "        for i in dangerValueList:\n",
    "            cursor = conn.cursor()\n",
    "            sql = f\"\"\"insert into ALARM \n",
    "                            VALUES (NULL,\n",
    "                                    '{i['TANK_ID']}',\n",
    "                                    '{i['VALUE']}',\n",
    "                                    '{i['RECORD_DATE']}',\n",
    "                                    'insogae',\n",
    "                                    '{i['TYPE']}')\n",
    "\n",
    "                  \"\"\"\n",
    "            cursor.execute(sql)\n",
    "            cursor.close()\n",
    "        conn.commit()\n",
    "        # convert datetime objects to string format\n",
    "        json_str\n",
    "        tempData = {\"type\":\"dangerData\",\"value\":json_str}\n",
    "        jsonData = json.dumps(tempData)\n",
    "        return jsonData\n",
    "    # dangerValueList가 null일경우 None 반환\n",
    "    else:\n",
    "        return None"
   ]
  },
  {
   "cell_type": "markdown",
   "id": "ecf99de4",
   "metadata": {},
   "source": [
    "### DB 연결실패시 바로 연결"
   ]
  },
  {
   "cell_type": "code",
   "execution_count": null,
   "id": "b5594141",
   "metadata": {
    "ExecuteTime": {
     "end_time": "2023-03-18T17:12:33.699967Z",
     "start_time": "2023-03-18T17:12:33.620467Z"
    }
   },
   "outputs": [],
   "source": [
    "conn = pymysql.connect(host='project-db-stu.ddns.net', user='insogae', password='insogae', db='insogae', port=3307, charset='utf8')"
   ]
  },
  {
   "cell_type": "markdown",
   "id": "c8556e13",
   "metadata": {},
   "source": [
    "### 파이썬웹소켓서버 구동 및 함수 실행-> Json데이터 클라이언트 전송"
   ]
  },
  {
   "cell_type": "code",
   "execution_count": null,
   "id": "b69655e3",
   "metadata": {
    "ExecuteTime": {
     "start_time": "2023-03-18T17:12:34.291Z"
    },
    "scrolled": false
   },
   "outputs": [],
   "source": [
    "import asyncio\n",
    "import websockets\n",
    "import nest_asyncio\n",
    "nest_asyncio.apply()\n",
    "\n",
    "\n",
    "async def server(websocket, path):\n",
    "    while True:\n",
    "        data = await websocket.recv()\n",
    "        print(data)\n",
    "        response = \"Hello, client!\"\n",
    "        task = asyncio.create_task(sendData(websocket))\n",
    "        await task\n",
    "        \n",
    "async def sendData(websocket):\n",
    "    while True:\n",
    "#         test = {\"type\":\"test\",\"value\":'테스트'} # 여러 json을 보내기 위한 테스트\n",
    "#         jsonTest = json.dumps(test) \n",
    "        preData6hour = predictData() # 예측값을 통해서 6시간뒤 보여주기위한 데이터 내보내기\n",
    "        dangerData = insertDangerData() # 이상치를 DB에 insert 함과 동시에 클라이언트로 데이터 보내기 (토스트에 활용)\n",
    "        updateData = insertData() # 10분단위 예측값을 DB에 insert 함과 동시에 클라이언트로 데이터 보내기 (대시보드, 시각화)\n",
    "        # 만약 이상치데이터가 None이 아닐경우에만 데이터 보내기\n",
    "        if dangerData is not None:\n",
    "            await websocket.send(dangerData)\n",
    "        await websocket.send(preData6hour)\n",
    "        await websocket.send(updateData)\n",
    "#         await websocket.send(jsonTest)\n",
    "        await asyncio.sleep(3)\n",
    "        \n",
    "async def main():\n",
    "    async with websockets.serve(server, 'localhost', 8123):\n",
    "        await asyncio.Future()  # 서버가 종료되지 않도록 무한대기\n",
    "\n",
    "asyncio.run(main())"
   ]
  }
 ],
 "metadata": {
  "hide_input": false,
  "kernelspec": {
   "display_name": "Python 3 (ipykernel)",
   "language": "python",
   "name": "python3"
  },
  "language_info": {
   "codemirror_mode": {
    "name": "ipython",
    "version": 3
   },
   "file_extension": ".py",
   "mimetype": "text/x-python",
   "name": "python",
   "nbconvert_exporter": "python",
   "pygments_lexer": "ipython3",
   "version": "3.9.13"
  },
  "toc": {
   "base_numbering": 1,
   "nav_menu": {},
   "number_sections": true,
   "sideBar": true,
   "skip_h1_title": false,
   "title_cell": "Table of Contents",
   "title_sidebar": "Contents",
   "toc_cell": false,
   "toc_position": {},
   "toc_section_display": true,
   "toc_window_display": false
  }
 },
 "nbformat": 4,
 "nbformat_minor": 5
}
